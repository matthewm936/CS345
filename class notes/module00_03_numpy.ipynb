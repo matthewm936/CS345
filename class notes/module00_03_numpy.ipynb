{
 "cells": [
  {
   "cell_type": "markdown",
   "metadata": {},
   "source": [
    "*This notebook is part of  course materials for CS 345: Machine Learning Foundations and Practice at Colorado State University.\n",
    "Original versions were created by Asa Ben-Hur and updated by Ross Beveridge.\n",
    "The content is availabe [on GitHub](https://github.com/asabenhur/CS345).*\n",
    "\n",
    "*The text is released under the [CC BY-SA license](https://creativecommons.org/licenses/by-sa/4.0/), and code is released under the [MIT license](https://opensource.org/licenses/MIT).*"
   ]
  },
  {
   "cell_type": "markdown",
   "metadata": {},
   "source": [
    "<a href=\"https://colab.research.google.com/github//asabenhur/CS345/blob/master/fall23/notebooks/module00_03_numpy.ipynb\">\n",
    "  <img align=\"left\" src=\"https://colab.research.google.com/assets/colab-badge.svg\" alt=\"Open In Colab\"/>\n",
    "</a>"
   ]
  },
  {
   "cell_type": "markdown",
   "metadata": {},
   "source": [
    "# NumPy:  Efficient Computation for Multi-Dimensional Arrays.\n",
    "\n",
    "In addition to covering the basics of NumPy this notebook introduces some key concepts for slicing and dicing array data. Also, we start to take randomness seriously with examples of how to sample from a random variable with the example of simulating a [Random Walk](https://en.wikipedia.org/wiki/Random_Walk).\n"
   ]
  },
  {
   "cell_type": "markdown",
   "metadata": {},
   "source": [
    "## What is NumPy?\n",
    "\n",
    "\n",
    "[NumPy](https://numpy.org/) (Numerical Python) is Python's library for numerical data, and provides a wealth of functionality for working with array data.\n",
    "\n",
    "NumPy features include:\n",
    "  * A fast and efficient multidimensional array object called the *ndarray*\n",
    "  * Functions for performing computations on arrays\n",
    "  * Tools for reading and writing array-based datasets to disk\n",
    "  * Linear algebra operations and random number generation\n",
    "\n",
    "This tutorial is a brief introduction.  For more information please refer to one of the following resources:\n",
    "\n",
    "* The NumPy [documentation](https://numpy.org/doc/stable/), which includes multiple tutorials.\n",
    "* The [Python Data Science Handbook](https://github.com/jakevdp/PythonDataScienceHandbook) by Jake Vander Plas.\n",
    "\n",
    "NumPy is going to be our primary Python programming tool for this course, and is one of the primary programming tools used in machine learning.\n",
    "\n",
    "As described in a recent [Nature publication](https://www.nature.com/articles/s41586-020-2649-2) by the authors and primary contributors to the package, NumPy has a special role in the Python data science and scientific computing eco-system:\n",
    "\n",
    "> NumPy underpins almost every Python library that does scientific or numerical computation including SciPy, Matplotlib, pandas, scikit-learn, and scikit-image. ... Because of its inherent simplicity, the NumPy array is the de facto exchange format for array data in Python.\n",
    "\n",
    "The following figure from this paper captures this:\n",
    "\n",
    "<img style=\"float: center;\" src=\"https://media.springernature.com/full/springer-static/image/art%3A10.1038%2Fs41586-020-2649-2/MediaObjects/41586_2020_2649_Fig2_HTML.png\" width=\"400\">\n",
    "\n",
    "Furthermore, once you have learned to use NumPy, you will find it easier to learn other packages like TensorFlow and PyTorch.\n",
    "\n",
    "\n",
    "Our first step is to **import** the package (note the \"import as\" shortcut):"
   ]
  },
  {
   "cell_type": "code",
   "execution_count": 4,
   "metadata": {},
   "outputs": [],
   "source": [
    "import numpy as np"
   ]
  },
  {
   "cell_type": "markdown",
   "metadata": {},
   "source": [
    "**Python note:**  Instead of the above import, we could have done ``from numpy import *``, which would have made every statement shorter by not having to write ``np.`` before each NumPy command.  That is not a good idea, as the NumPy namespace conflicts with built in Python functions like ``min`` or ``max``."
   ]
  },
  {
   "cell_type": "markdown",
   "metadata": {},
   "source": [
    "To check which version of NumPy you have installed:"
   ]
  },
  {
   "cell_type": "code",
   "execution_count": 2,
   "metadata": {},
   "outputs": [
    {
     "data": {
      "text/plain": [
       "'1.23.4'"
      ]
     },
     "execution_count": 2,
     "metadata": {},
     "output_type": "execute_result"
    }
   ],
   "source": [
    "np.__version__"
   ]
  },
  {
   "cell_type": "markdown",
   "metadata": {},
   "source": [
    "Arrays are the standard data containers in NumPy, and can have any number of dimensions.\n",
    "\n",
    "Let's start with a one dimensional array:"
   ]
  },
  {
   "cell_type": "code",
   "execution_count": 3,
   "metadata": {},
   "outputs": [
    {
     "data": {
      "text/plain": [
       "array([1, 2, 3])"
      ]
     },
     "execution_count": 3,
     "metadata": {},
     "output_type": "execute_result"
    }
   ],
   "source": [
    "my_array = np.array([1, 2, 3])\n",
    "my_array"
   ]
  },
  {
   "cell_type": "markdown",
   "metadata": {},
   "source": [
    "And its pure Python counterpart:"
   ]
  },
  {
   "cell_type": "code",
   "execution_count": 4,
   "metadata": {},
   "outputs": [],
   "source": [
    "my_list = [1, 2, 3]"
   ]
  },
  {
   "cell_type": "markdown",
   "metadata": {},
   "source": [
    "Unlike NumPy arrays, Python lists can handle heterogeneous data types:"
   ]
  },
  {
   "cell_type": "code",
   "execution_count": 5,
   "metadata": {},
   "outputs": [
    {
     "data": {
      "text/plain": [
       "[int, float, bool, str, list]"
      ]
     },
     "execution_count": 5,
     "metadata": {},
     "output_type": "execute_result"
    }
   ],
   "source": [
    "my_heterogeneous_list = [1, 2.0, True, 'Python', [1,2,3]]\n",
    "\n",
    "# let's show the types of each element in the list:\n",
    "[type(item) for item in my_heterogeneous_list]"
   ]
  },
  {
   "cell_type": "markdown",
   "metadata": {},
   "source": [
    "What have we gained over using a Python list?  In fact, NumPy arrays are less flexible than Python lists:"
   ]
  },
  {
   "cell_type": "code",
   "execution_count": 6,
   "metadata": {},
   "outputs": [
    {
     "name": "stdout",
     "output_type": "stream",
     "text": [
      "wrong type in assignment\n"
     ]
    }
   ],
   "source": [
    "my_list[0] = 'a'\n",
    "\n",
    "try :\n",
    "    my_array[0] = 'a'\n",
    "except :\n",
    "    print(\"wrong type in assignment\")"
   ]
  },
  {
   "cell_type": "markdown",
   "metadata": {},
   "source": [
    "As we just saw, Python lists are very flexible - they can store any type of data.  But that comes at a cost, both in speed and memory.\n",
    "To understand this cost we need to understand the implementation of Python lists a little better.  Python is written in C, and under the hood, every Python object is essentialy pointer to a C structure.\n",
    "Memory-wise, the Python list, is thus a pointer to a block of pointers, each of which in turn points to a Python object (even an integer is an object in Python).\n",
    "\n",
    "![Array Memory Layout](https://github.com/jakevdp/PythonDataScienceHandbook/raw/master/notebooks/figures/array_vs_list.png)"
   ]
  },
  {
   "cell_type": "markdown",
   "metadata": {},
   "source": [
    "The reduced flexibility of NumPy arrays comes with improved efficiency both in terms of storage, execution, and a wealth of functionality for fast manipulation of numeric data.\n",
    "\n",
    "Furthermore, using NumPy's C API, libraries written in C or Fortran, can operate on the data stored in a NumPy array without needing to copy the data. \n",
    "\n",
    "Let's demonstrate the speed advantage of NumPy arrays:"
   ]
  },
  {
   "cell_type": "code",
   "execution_count": 7,
   "metadata": {},
   "outputs": [],
   "source": [
    "my_array = np.arange(1000000)\n",
    "my_list = list(range(1000000))\n",
    "# Note: simply calling range(10000000) does not create a list!"
   ]
  },
  {
   "cell_type": "code",
   "execution_count": 8,
   "metadata": {},
   "outputs": [
    {
     "data": {
      "text/plain": [
       "array([0, 1, 2, 3, 4, 5, 6, 7, 8, 9])"
      ]
     },
     "execution_count": 8,
     "metadata": {},
     "output_type": "execute_result"
    }
   ],
   "source": [
    "my_array[:10]"
   ]
  },
  {
   "cell_type": "code",
   "execution_count": 9,
   "metadata": {},
   "outputs": [
    {
     "name": "stdout",
     "output_type": "stream",
     "text": [
      "3.06 ms ± 334 µs per loop (mean ± std. dev. of 7 runs, 100 loops each)\n"
     ]
    }
   ],
   "source": [
    "%timeit my_array2 = my_array * 2"
   ]
  },
  {
   "cell_type": "code",
   "execution_count": 10,
   "metadata": {},
   "outputs": [
    {
     "name": "stdout",
     "output_type": "stream",
     "text": [
      "89.1 ms ± 5.56 ms per loop (mean ± std. dev. of 7 runs, 10 loops each)\n"
     ]
    }
   ],
   "source": [
    "%timeit my_list2 = [x * 2 for x in my_list]"
   ]
  },
  {
   "cell_type": "markdown",
   "metadata": {},
   "source": [
    "This is our first example that demonstrates the speed advantage of using NumPy ndarrays over Python lists.\n",
    "\n",
    "### Vectorized code\n",
    "\n",
    "NumPy provides a high-level API for array programming.  If you can express your analysis as operations on vectors and matrices like we just did above, the resulting NumPy code will be fast, comparable in speed to code written in a compiled language.\n",
    "To produce efficient NumPy code will require a different mindset:  we will need to think in terms of vectors and matrices.  This is often called **vectorization**, and refers to the process of expressing a computation in terms of vectors and matrices.\n",
    "One of our goals in this course is to get you accustomed to expressing computations in this way.\n",
    "\n",
    "**Why is vectorized code faster?**  By expressing our code in this way we are able to avoid for loops in our Python code.  Instead, the code performs the loop in the underlying C code layer, which is much faster.\n",
    "\n",
    "**A note about timing Python code.**  There are multiple ways of timing Python code snippets in the Jupyter notebook;\n",
    "``%time`` is another magic command that can be used for this task.  ``%timeit`` is usally preferred (see [this article](https://jakevdp.github.io/PythonDataScienceHandbook/01.07-timing-and-profiling.html) for more information about profiling Python code)."
   ]
  },
  {
   "cell_type": "markdown",
   "metadata": {},
   "source": [
    "### Example of vectorized operations on NumPy ndarrays\n",
    "\n",
    "NumPy ndarrays enable you to perform mathematical operations on entire arrays in a single operation without requiring for loops.  As mentioned above, this is called *vectorization*, and is key for writing efficient machine learning code.\n",
    "\n",
    "We will now see some examples."
   ]
  },
  {
   "cell_type": "markdown",
   "metadata": {},
   "source": [
    "### Array multiplication and addition"
   ]
  },
  {
   "cell_type": "code",
   "execution_count": 11,
   "metadata": {},
   "outputs": [
    {
     "data": {
      "text/plain": [
       "array([[1, 2, 3],\n",
       "       [4, 5, 6]])"
      ]
     },
     "execution_count": 11,
     "metadata": {},
     "output_type": "execute_result"
    }
   ],
   "source": [
    "data = np.array( [ [1,2,3], [4,5,6] ])\n",
    "data"
   ]
  },
  {
   "cell_type": "code",
   "execution_count": 12,
   "metadata": {},
   "outputs": [
    {
     "name": "stdout",
     "output_type": "stream",
     "text": [
      "[[10 20 30]\n",
      " [40 50 60]]\n",
      "\n",
      "[[ 2  4  6]\n",
      " [ 8 10 12]]\n"
     ]
    }
   ],
   "source": [
    "print(data * 10)    # multiply array by a scalar\n",
    "print()\n",
    "print(data + data)  # add arrays"
   ]
  },
  {
   "cell_type": "markdown",
   "metadata": {},
   "source": [
    "### Boolean Operations on Arrays\n",
    "\n",
    "You can also perform vectorized Boolean operations on arrays:"
   ]
  },
  {
   "cell_type": "code",
   "execution_count": 13,
   "metadata": {},
   "outputs": [
    {
     "data": {
      "text/plain": [
       "array([[False,  True, False],\n",
       "       [ True, False,  True]])"
      ]
     },
     "execution_count": 13,
     "metadata": {},
     "output_type": "execute_result"
    }
   ],
   "source": [
    "a1 = np.array([[1., 2., 3.], [4., 5., 6.]])\n",
    "a2 = np.array([[0., 4., 1.], [7., 2., 12.]])\n",
    "a2 > a1"
   ]
  },
  {
   "cell_type": "markdown",
   "metadata": {},
   "source": [
    "### Array shape and dtype\n",
    "\n",
    "Every ndarray has a **shape**, which is a tuple indicating the size of each dimension, and a **dtype**, an object describing the data type of the array:\n"
   ]
  },
  {
   "cell_type": "code",
   "execution_count": 14,
   "metadata": {},
   "outputs": [
    {
     "data": {
      "text/plain": [
       "((2, 3), dtype('int64'))"
      ]
     },
     "execution_count": 14,
     "metadata": {},
     "output_type": "execute_result"
    }
   ],
   "source": [
    "data.shape,data.dtype"
   ]
  },
  {
   "cell_type": "markdown",
   "metadata": {},
   "source": [
    "The `dtype` attribute tells us what kind of array got created.\n",
    "\n",
    "Note that NumPy inferred the type from the data that we provided.  To demonstrate that, let's check what happens if there are floating point numbers in the input to the ndarray constructor:  "
   ]
  },
  {
   "cell_type": "code",
   "execution_count": 15,
   "metadata": {},
   "outputs": [
    {
     "name": "stdout",
     "output_type": "stream",
     "text": [
      "[6.  7.5 8.  0.  1. ] float64\n",
      "[6 7 8 0 1] int64\n"
     ]
    }
   ],
   "source": [
    "arr1 = np.array([6, 7.5, 8, 0, 1])\n",
    "print(arr1,arr1.dtype)\n",
    "arr2 = np.array([6, 7, 8, 0, 1])\n",
    "print(arr2,arr2.dtype)"
   ]
  },
  {
   "cell_type": "markdown",
   "metadata": {},
   "source": [
    "Let's compare *shape* with the Python *len* function.  On 1d arrays the result is almost the same:"
   ]
  },
  {
   "cell_type": "code",
   "execution_count": 16,
   "metadata": {},
   "outputs": [
    {
     "name": "stdout",
     "output_type": "stream",
     "text": [
      "(5,)\n",
      "5\n"
     ]
    }
   ],
   "source": [
    "print(arr1.shape)\n",
    "print(len(arr1))"
   ]
  },
  {
   "cell_type": "markdown",
   "metadata": {},
   "source": [
    "Now let's look at a 2d array:\n"
   ]
  },
  {
   "cell_type": "code",
   "execution_count": 17,
   "metadata": {},
   "outputs": [
    {
     "name": "stdout",
     "output_type": "stream",
     "text": [
      "[[1 2 3]\n",
      " [4 5 6]]\n",
      "Its shape:\n",
      "(2, 3)\n",
      "Its length:\n",
      "2\n"
     ]
    }
   ],
   "source": [
    "print(data)\n",
    "print(\"Its shape:\")\n",
    "print(data.shape)\n",
    "print(\"Its length:\")\n",
    "print(len(data))"
   ]
  },
  {
   "cell_type": "markdown",
   "metadata": {},
   "source": [
    "### Data types\n",
    "\n",
    "As described above, the dtype associated with an ndarray is the type used to store the elements of the array.\n",
    "The numerical dtypes are named as follows: a type name, like float or int, followed by a number indicating the number of bits per element. A standard double-precision floating-point value (what’s used under the hood in Python’s float object) takes up 64 bits. Thus, this type is known in NumPy as ``float64``."
   ]
  },
  {
   "cell_type": "code",
   "execution_count": 18,
   "metadata": {},
   "outputs": [
    {
     "data": {
      "text/plain": [
       "(dtype('float64'), dtype('int32'))"
      ]
     },
     "execution_count": 18,
     "metadata": {},
     "output_type": "execute_result"
    }
   ],
   "source": [
    "a1 = np.array([1, 2, 3], dtype=np.float64)\n",
    "a2 = np.array([1, 2, 3], dtype=np.int32)\n",
    "a1.dtype,a2.dtype"
   ]
  },
  {
   "cell_type": "markdown",
   "metadata": {},
   "source": [
    "What would be the resulting data type for an array that contains strings and numbers?"
   ]
  },
  {
   "cell_type": "code",
   "execution_count": 19,
   "metadata": {},
   "outputs": [],
   "source": [
    "# create an array that contains strings and \n",
    "# numbers and check its data type"
   ]
  },
  {
   "cell_type": "markdown",
   "metadata": {},
   "source": [
    "What is the data type of the first element of the array?"
   ]
  },
  {
   "cell_type": "markdown",
   "metadata": {},
   "source": [
    "### Creating arrays\n",
    "\n",
    "NumPy has plenty of ways for creating all kinds of arrays - initialized with zeros, ones, or random values.  Typically they have a size argument that determines the shape of the array.\n",
    "\n",
    "Here are some examples, and we'll start by creating an array of zeros:"
   ]
  },
  {
   "cell_type": "code",
   "execution_count": 20,
   "metadata": {},
   "outputs": [
    {
     "data": {
      "text/plain": [
       "array([[0., 0., 0.],\n",
       "       [0., 0., 0.]])"
      ]
     },
     "execution_count": 20,
     "metadata": {},
     "output_type": "execute_result"
    }
   ],
   "source": [
    "np.zeros((2,3))"
   ]
  },
  {
   "cell_type": "markdown",
   "metadata": {},
   "source": [
    "An array of ones:"
   ]
  },
  {
   "cell_type": "code",
   "execution_count": 21,
   "metadata": {},
   "outputs": [
    {
     "data": {
      "text/plain": [
       "array([[1., 1., 1.],\n",
       "       [1., 1., 1.]])"
      ]
     },
     "execution_count": 21,
     "metadata": {},
     "output_type": "execute_result"
    }
   ],
   "source": [
    "np.ones((2,3))"
   ]
  },
  {
   "cell_type": "markdown",
   "metadata": {},
   "source": [
    "### Arrays of random numbers"
   ]
  },
  {
   "cell_type": "markdown",
   "metadata": {},
   "source": [
    "Random numbers are very useful in machine learning!\n",
    "\n",
    "We can create random integers:"
   ]
  },
  {
   "cell_type": "code",
   "execution_count": 2,
   "metadata": {},
   "outputs": [
    {
     "data": {
      "text/plain": [
       "array([1, 5, 4, 3, 3, 6, 1, 5, 2, 1], dtype=int64)"
      ]
     },
     "execution_count": 2,
     "metadata": {},
     "output_type": "execute_result"
    }
   ],
   "source": [
    "seed = 42\n",
    "from numpy.random import default_rng\n",
    "rng = default_rng(seed)  \n",
    "# this creates an instance of a random number generator \n",
    "# the argument is called the \"seed\"\n",
    "\n",
    "# create integers between 1 and 6:\n",
    "rng.integers(1,7, size=(10,))"
   ]
  },
  {
   "cell_type": "markdown",
   "metadata": {},
   "source": [
    "Let's check what happens if we run this code again:"
   ]
  },
  {
   "cell_type": "code",
   "execution_count": 23,
   "metadata": {},
   "outputs": [
    {
     "data": {
      "text/plain": [
       "array([1, 5, 4, 3, 3, 6, 1, 5, 2, 1])"
      ]
     },
     "execution_count": 23,
     "metadata": {},
     "output_type": "execute_result"
    }
   ],
   "source": [
    "rng = default_rng(seed)\n",
    "rng.integers(1,7, size=(10,))"
   ]
  },
  {
   "cell_type": "markdown",
   "metadata": {},
   "source": [
    "This reveals just how \"random\" are the random numbers produced by NumPy!"
   ]
  },
  {
   "cell_type": "markdown",
   "metadata": {},
   "source": [
    "### Not all that is random is integer\n",
    "\n",
    "Let's create random floating point numbers between 0 and 1:"
   ]
  },
  {
   "cell_type": "code",
   "execution_count": 24,
   "metadata": {},
   "outputs": [
    {
     "data": {
      "text/plain": [
       "array([[0.97562235, 0.7611397 , 0.78606431],\n",
       "       [0.12811363, 0.45038594, 0.37079802],\n",
       "       [0.92676499, 0.64386512, 0.82276161]])"
      ]
     },
     "execution_count": 24,
     "metadata": {},
     "output_type": "execute_result"
    }
   ],
   "source": [
    "rng.random(size=(3,3))  # you can also call it as rng.random((3,3))"
   ]
  },
  {
   "cell_type": "markdown",
   "metadata": {},
   "source": [
    "NumPy can also generate random numbers with other distributions, e.g. the normal (aka Gaussian) distribution:"
   ]
  },
  {
   "cell_type": "code",
   "execution_count": 25,
   "metadata": {},
   "outputs": [
    {
     "data": {
      "text/plain": [
       "array([ 0.46750934, -0.85929246,  0.36875078, -0.9588826 ,  0.8784503 ])"
      ]
     },
     "execution_count": 25,
     "metadata": {},
     "output_type": "execute_result"
    }
   ],
   "source": [
    "rng.standard_normal(size=(5,))"
   ]
  },
  {
   "cell_type": "markdown",
   "metadata": {},
   "source": [
    "The following plot should convince us that `np.standard_normal` is working as advertised:"
   ]
  },
  {
   "cell_type": "code",
   "execution_count": 5,
   "metadata": {},
   "outputs": [
    {
     "data": {
      "image/png": "[encoded data removed]",
      "text/plain": [
       "<Figure size 640x480 with 1 Axes>"
      ]
     },
     "metadata": {},
     "output_type": "display_data"
    }
   ],
   "source": [
    "import matplotlib.pyplot as plt\n",
    "\n",
    "sample = rng.standard_normal(size=(10000,))\n",
    "plt.hist(sample, 100, density=True, alpha=0.5)\n",
    "\n",
    "x = np.linspace(-4, 4, 1000)\n",
    "\n",
    "normal = (1/np.sqrt(2*np.pi))*np.exp(-x**2/2)\n",
    "plt.plot(x,normal, label=r'$\\frac{1}{\\sqrt{2 \\pi}}e^{-x^2/2}$');\n",
    "plt.legend(fontsize='16');"
   ]
  },
  {
   "cell_type": "markdown",
   "metadata": {},
   "source": [
    "### A note about randomness\n",
    "\n",
    "There is something truly fundamental about the usefulness of random variables. Randomness has pratical value and we will see many examples of that during this course.  An example we will see later this semester is [stochastic gradient descent](https://en.wikipedia.org/wiki/Stochastic_gradient_descent), an example of an algorithm made better by randomness."
   ]
  },
  {
   "cell_type": "markdown",
   "metadata": {},
   "source": [
    "### Ranges\n",
    "\n",
    "`arange` is the NumPy equivalent of the `range` function.  It is more flxible than its pure Python counterpart and provides fractional strides:"
   ]
  },
  {
   "cell_type": "code",
   "execution_count": 27,
   "metadata": {},
   "outputs": [
    {
     "data": {
      "text/plain": [
       "array([2. , 2.1, 2.2, 2.3, 2.4, 2.5, 2.6, 2.7, 2.8, 2.9])"
      ]
     },
     "execution_count": 27,
     "metadata": {},
     "output_type": "execute_result"
    }
   ],
   "source": [
    "np.arange(2, 3, 0.1)"
   ]
  },
  {
   "cell_type": "markdown",
   "metadata": {},
   "source": [
    "The `linspace` function provides similar functionality with a slightly different interface:"
   ]
  },
  {
   "cell_type": "code",
   "execution_count": 28,
   "metadata": {},
   "outputs": [
    {
     "data": {
      "text/plain": [
       "array([1. , 1.6, 2.2, 2.8, 3.4, 4. ])"
      ]
     },
     "execution_count": 28,
     "metadata": {},
     "output_type": "execute_result"
    }
   ],
   "source": [
    "np.linspace(1., 4., 6)"
   ]
  },
  {
   "cell_type": "markdown",
   "metadata": {},
   "source": [
    "### Reminder - getting **help** on python objects:\n",
    "\n",
    "For getting help e.g. on the Numpy **linspace** function you can do one of the following:\n",
    "\n",
    "```python\n",
    "?np.linspace\n",
    "```\n",
    "\n",
    "or\n",
    "\n",
    "```python\n",
    "help(np.linspace)\n",
    "```"
   ]
  },
  {
   "cell_type": "code",
   "execution_count": 29,
   "metadata": {},
   "outputs": [],
   "source": [
    "#help(np.linspace)"
   ]
  },
  {
   "cell_type": "markdown",
   "metadata": {},
   "source": [
    "### Array indexing and slicing\n",
    "\n",
    "Indexing in NumPy behaves like you would expect in Python:"
   ]
  },
  {
   "cell_type": "code",
   "execution_count": 30,
   "metadata": {},
   "outputs": [
    {
     "name": "stdout",
     "output_type": "stream",
     "text": [
      "array elements:   2 3 4\n"
     ]
    },
    {
     "data": {
      "text/plain": [
       "array([5, 3, 4])"
      ]
     },
     "execution_count": 30,
     "metadata": {},
     "output_type": "execute_result"
    }
   ],
   "source": [
    "a = np.array([2,3,4])\n",
    "print(\"array elements:  \", a[0], a[1], a[2])\n",
    "a[0] = 5                  # Change an element of the array\n",
    "a"
   ]
  },
  {
   "cell_type": "markdown",
   "metadata": {},
   "source": [
    "Similarly to Python lists, you can use negative numbers to index NumPy arrays.  For example `a[-1]` is the last element in an array:"
   ]
  },
  {
   "cell_type": "code",
   "execution_count": 31,
   "metadata": {},
   "outputs": [
    {
     "data": {
      "text/plain": [
       "4"
      ]
     },
     "execution_count": 31,
     "metadata": {},
     "output_type": "execute_result"
    }
   ],
   "source": [
    "a[-1]"
   ]
  },
  {
   "cell_type": "markdown",
   "metadata": {},
   "source": [
    "### Class question\n",
    "\n",
    "Can you explain what's happening in the following piece of code?  (Hint:  refer to the picture shown above of a NumPy array.)"
   ]
  },
  {
   "cell_type": "code",
   "execution_count": 32,
   "metadata": {},
   "outputs": [
    {
     "name": "stdout",
     "output_type": "stream",
     "text": [
      "a:  [1234    3    4]\n",
      "b:  [1234    3    4]\n"
     ]
    }
   ],
   "source": [
    "a = np.array([2,3,4])\n",
    "b = a\n",
    "b[0] = 1234\n",
    "print(\"a: \", a)\n",
    "print(\"b: \", b)"
   ]
  },
  {
   "cell_type": "markdown",
   "metadata": {},
   "source": [
    "### Slices in NumPy\n",
    "\n",
    "The syntax for slices in NumPy is the same as slices of Python lists:"
   ]
  },
  {
   "cell_type": "code",
   "execution_count": 8,
   "metadata": {},
   "outputs": [
    {
     "name": "stdout",
     "output_type": "stream",
     "text": [
      "[0 1 2 3 4 5 6 7 8 9]\n"
     ]
    },
    {
     "data": {
      "text/plain": [
       "array([5, 6, 7])"
      ]
     },
     "execution_count": 8,
     "metadata": {},
     "output_type": "execute_result"
    }
   ],
   "source": [
    "a = np.arange(10)\n",
    "print(a)\n",
    "a[5:8]"
   ]
  },
  {
   "cell_type": "markdown",
   "metadata": {},
   "source": [
    "You can assign values to a slice:"
   ]
  },
  {
   "cell_type": "code",
   "execution_count": 9,
   "metadata": {},
   "outputs": [
    {
     "data": {
      "text/plain": [
       "array([ 0,  1,  2,  3,  4, 12, 12, 12,  8,  9])"
      ]
     },
     "execution_count": 9,
     "metadata": {},
     "output_type": "execute_result"
    }
   ],
   "source": [
    "a[5:8] = 12\n",
    "a"
   ]
  },
  {
   "cell_type": "markdown",
   "metadata": {},
   "source": [
    "Do slices create copies of the underlying data?  Let's see:"
   ]
  },
  {
   "cell_type": "code",
   "execution_count": 12,
   "metadata": {},
   "outputs": [
    {
     "name": "stdout",
     "output_type": "stream",
     "text": [
      "[ 0  1  2  3  4 12  0 12  8  9]\n",
      "12\n"
     ]
    }
   ],
   "source": [
    "a_slice = a[5:8]\n",
    "a_slice\n",
    "a[6] = 0\n",
    "print(a)\n",
    "print(a_slice[0])"
   ]
  },
  {
   "cell_type": "code",
   "execution_count": 36,
   "metadata": {},
   "outputs": [
    {
     "data": {
      "text/plain": [
       "array([    0,     1,     2,     3,     4,    12, 12345,    12,     8,\n",
       "           9])"
      ]
     },
     "execution_count": 36,
     "metadata": {},
     "output_type": "execute_result"
    }
   ],
   "source": [
    "a_slice[1] = 12345\n",
    "a"
   ]
  },
  {
   "cell_type": "markdown",
   "metadata": {},
   "source": [
    "NumPy has been designed to be able to work with very large arrays, so eagerly copying data could cause severe performance and memory problems.\n",
    "\n",
    "If you want a copy of a slice instead of a view, you will need to explicitly copy it using e.g. ``arr[5:8].copy()``.\n"
   ]
  },
  {
   "cell_type": "markdown",
   "metadata": {},
   "source": [
    "### Two dimensional arrays\n",
    "\n",
    "Let's look at two dimensional arrays or *matrices*."
   ]
  },
  {
   "cell_type": "code",
   "execution_count": 13,
   "metadata": {},
   "outputs": [
    {
     "name": "stdout",
     "output_type": "stream",
     "text": [
      "1 2\n",
      "1 2\n"
     ]
    },
    {
     "data": {
      "text/plain": [
       "(3, 4)"
      ]
     },
     "execution_count": 13,
     "metadata": {},
     "output_type": "execute_result"
    }
   ],
   "source": [
    "a = np.array([[1,2,3,4], [5,6,7,8], [9,10,11,12]])\n",
    "\n",
    "# two ways of indexing a two dimensional array:\n",
    "print(a[0, 0], a[0, 1])\n",
    "print(a[0][0], a[0][1])\n",
    "\n",
    "a.shape"
   ]
  },
  {
   "cell_type": "markdown",
   "metadata": {},
   "source": [
    "The latter form of indexing works, because each row of a two dimensional array is an array as well."
   ]
  },
  {
   "cell_type": "markdown",
   "metadata": {},
   "source": [
    "So, to access the first row:"
   ]
  },
  {
   "cell_type": "code",
   "execution_count": 14,
   "metadata": {},
   "outputs": [
    {
     "data": {
      "text/plain": [
       "(array([1, 2, 3, 4]), (4,))"
      ]
     },
     "execution_count": 14,
     "metadata": {},
     "output_type": "execute_result"
    }
   ],
   "source": [
    "row = a[0]    # the first row of a\n",
    "row, row.shape"
   ]
  },
  {
   "cell_type": "markdown",
   "metadata": {},
   "source": [
    "To access a column:"
   ]
  },
  {
   "cell_type": "code",
   "execution_count": 15,
   "metadata": {},
   "outputs": [
    {
     "name": "stdout",
     "output_type": "stream",
     "text": [
      "[[ 1  2  3  4]\n",
      " [ 5  6  7  8]\n",
      " [ 9 10 11 12]]\n"
     ]
    },
    {
     "data": {
      "text/plain": [
       "(array([1, 5, 9]), (3,))"
      ]
     },
     "execution_count": 15,
     "metadata": {},
     "output_type": "execute_result"
    }
   ],
   "source": [
    "print(a)\n",
    "col = a[:, 0]\n",
    "col, col.shape"
   ]
  },
  {
   "cell_type": "markdown",
   "metadata": {},
   "source": [
    "We can perform slicing on multiple dimensions, creating a submatrix:"
   ]
  },
  {
   "cell_type": "code",
   "execution_count": 40,
   "metadata": {},
   "outputs": [
    {
     "name": "stdout",
     "output_type": "stream",
     "text": [
      "a:\n",
      "[[ 1  2  3  4]\n",
      " [ 5  6  7  8]\n",
      " [ 9 10 11 12]]\n",
      "submatrix:\n",
      "[[ 6  7  8]\n",
      " [10 11 12]]\n"
     ]
    },
    {
     "data": {
      "text/plain": [
       "(2, 3)"
      ]
     },
     "execution_count": 40,
     "metadata": {},
     "output_type": "execute_result"
    }
   ],
   "source": [
    "print(f'a:\\n{a}')\n",
    "submatrix = a[1:3, 1:4]\n",
    "print(f'submatrix:\\n{submatrix}')\n",
    "submatrix.shape"
   ]
  },
  {
   "cell_type": "markdown",
   "metadata": {},
   "source": [
    "### Fancy indexing\n",
    "\n",
    "You can index an array using an integer array:\n"
   ]
  },
  {
   "cell_type": "code",
   "execution_count": 16,
   "metadata": {},
   "outputs": [
    {
     "name": "stdout",
     "output_type": "stream",
     "text": [
      "a: \n",
      "[[ 1  2  3  4]\n",
      " [ 5  6  7  8]\n",
      " [ 9 10 11 12]]\n"
     ]
    },
    {
     "data": {
      "text/plain": [
       "array([[ 1,  2,  3,  4],\n",
       "       [ 9, 10, 11, 12]])"
      ]
     },
     "execution_count": 16,
     "metadata": {},
     "output_type": "execute_result"
    }
   ],
   "source": [
    "print(f'a: \\n{a}')\n",
    "a[ [0, 2] ]   # extract a given set of rows"
   ]
  },
  {
   "cell_type": "code",
   "execution_count": 42,
   "metadata": {},
   "outputs": [
    {
     "data": {
      "text/plain": [
       "array([[ 1,  3],\n",
       "       [ 5,  7],\n",
       "       [ 9, 11]])"
      ]
     },
     "execution_count": 42,
     "metadata": {},
     "output_type": "execute_result"
    }
   ],
   "source": [
    "a[:, [0,2]]  # extract a given set of columns"
   ]
  },
  {
   "cell_type": "markdown",
   "metadata": {},
   "source": [
    "### Class question\n",
    "\n",
    "**Question:** does indexing using an array create a copy of the array or simply a view, as in the case of slicing?"
   ]
  },
  {
   "cell_type": "code",
   "execution_count": 17,
   "metadata": {},
   "outputs": [
    {
     "name": "stdout",
     "output_type": "stream",
     "text": [
      "[[ 1  2  3  4]\n",
      " [ 5  6  7  8]\n",
      " [ 9 10 11 12]]\n",
      "[[1234    2    3    4]\n",
      " [   9   10   11   12]]\n"
     ]
    }
   ],
   "source": [
    "## write some code to answer this question\n",
    "b = a[ [0,2] ]\n",
    "b[0][0] = 1234\n",
    "print(a)\n",
    "print(b)"
   ]
  },
  {
   "cell_type": "markdown",
   "metadata": {},
   "source": [
    "### Exercises\n",
    "\n",
    "Describe the effect of each of the following slices:"
   ]
  },
  {
   "cell_type": "code",
   "execution_count": 19,
   "metadata": {},
   "outputs": [
    {
     "name": "stdout",
     "output_type": "stream",
     "text": [
      "[[1 2 3]\n",
      " [4 5 6]\n",
      " [7 8 9]]\n",
      "(3, 3)\n"
     ]
    }
   ],
   "source": [
    "a2d = np.array([[1, 2, 3], [4, 5, 6], [7, 8, 9]])\n",
    "print(a2d)\n",
    "print(a2d.shape)"
   ]
  },
  {
   "cell_type": "code",
   "execution_count": 21,
   "metadata": {},
   "outputs": [
    {
     "name": "stdout",
     "output_type": "stream",
     "text": [
      "[[1 2 3]\n",
      " [4 5 6]\n",
      " [7 8 9]]\n",
      "(3, 3)\n"
     ]
    }
   ],
   "source": [
    "a2d[:2]\n",
    "print(a2d)\n",
    "print(a2d.shape)"
   ]
  },
  {
   "cell_type": "code",
   "execution_count": 46,
   "metadata": {},
   "outputs": [
    {
     "data": {
      "text/plain": [
       "array([[2, 3],\n",
       "       [5, 6]])"
      ]
     },
     "execution_count": 46,
     "metadata": {},
     "output_type": "execute_result"
    }
   ],
   "source": [
    "a2d[:2, 1:]"
   ]
  },
  {
   "cell_type": "code",
   "execution_count": 47,
   "metadata": {},
   "outputs": [
    {
     "data": {
      "text/plain": [
       "array([7, 8])"
      ]
     },
     "execution_count": 47,
     "metadata": {},
     "output_type": "execute_result"
    }
   ],
   "source": [
    "a2d[-1, :2]"
   ]
  },
  {
   "cell_type": "code",
   "execution_count": 48,
   "metadata": {},
   "outputs": [
    {
     "data": {
      "text/plain": [
       "array([[1, 2, 3],\n",
       "       [4, 5, 6],\n",
       "       [7, 8, 9]])"
      ]
     },
     "execution_count": 48,
     "metadata": {},
     "output_type": "execute_result"
    }
   ],
   "source": [
    "a2d[:, :]"
   ]
  },
  {
   "cell_type": "markdown",
   "metadata": {},
   "source": [
    "### Boolean indexing\n",
    "\n",
    "You are about to see another very powerful aspect of arrays in NumPy:\n",
    " selectively accessing parts of an array based on a Boolean condition.\n",
    "This is called **Boolean indexing**."
   ]
  },
  {
   "cell_type": "code",
   "execution_count": 22,
   "metadata": {},
   "outputs": [
    {
     "name": "stdout",
     "output_type": "stream",
     "text": [
      "Names are:\n",
      "['Bob' 'Joe' 'Will' 'Bob' 'Will' 'Joe' 'Joe']\n",
      "Data is:\n",
      "[[ 1.03677079  0.73124052 -0.12792346 -1.13910746]\n",
      " [-1.0685446   0.75303016 -1.27774243 -0.11815449]\n",
      " [ 2.68107213  0.45956084  0.7422492  -1.06103527]\n",
      " [-1.22730166  0.79582204 -0.28235199  1.17362148]\n",
      " [ 0.14313324  3.55636279 -0.47231982  0.38913153]\n",
      " [-0.79414566  1.13208001  0.54051239 -0.86118985]\n",
      " [-0.21728489  1.47183477  1.35170911 -1.31439564]]\n"
     ]
    }
   ],
   "source": [
    "names = np.array(['Bob', 'Joe', 'Will', 'Bob', 'Will', 'Joe', 'Joe'])\n",
    "data = rng.standard_normal(size=(7, 4))\n",
    "print(f'Names are:\\n{names}')\n",
    "print(f'Data is:\\n{data}')"
   ]
  },
  {
   "cell_type": "code",
   "execution_count": 23,
   "metadata": {},
   "outputs": [
    {
     "data": {
      "text/plain": [
       "array([ True, False, False,  True, False, False, False])"
      ]
     },
     "execution_count": 23,
     "metadata": {},
     "output_type": "execute_result"
    }
   ],
   "source": [
    "names == 'Bob'"
   ]
  },
  {
   "cell_type": "code",
   "execution_count": 51,
   "metadata": {},
   "outputs": [
    {
     "data": {
      "text/plain": [
       "array([[-0.19794763, -0.24423663,  0.41795911, -0.00869837],\n",
       "       [ 0.59951699,  0.55098229,  2.08771404, -0.74785883]])"
      ]
     },
     "execution_count": 51,
     "metadata": {},
     "output_type": "execute_result"
    }
   ],
   "source": [
    "data[names == 'Bob']"
   ]
  },
  {
   "cell_type": "code",
   "execution_count": 24,
   "metadata": {},
   "outputs": [
    {
     "name": "stdout",
     "output_type": "stream",
     "text": [
      "[ True False False  True False False False]\n",
      "[False  True  True False  True  True  True]\n"
     ]
    },
    {
     "data": {
      "text/plain": [
       "array([[-1.0685446 ,  0.75303016, -1.27774243, -0.11815449],\n",
       "       [ 2.68107213,  0.45956084,  0.7422492 , -1.06103527],\n",
       "       [ 0.14313324,  3.55636279, -0.47231982,  0.38913153],\n",
       "       [-0.79414566,  1.13208001,  0.54051239, -0.86118985],\n",
       "       [-0.21728489,  1.47183477,  1.35170911, -1.31439564]])"
      ]
     },
     "execution_count": 24,
     "metadata": {},
     "output_type": "execute_result"
    }
   ],
   "source": [
    "cond = names == 'Bob'\n",
    "print(cond)\n",
    "print(~cond)\n",
    "data[~cond]"
   ]
  },
  {
   "cell_type": "code",
   "execution_count": 53,
   "metadata": {},
   "outputs": [
    {
     "name": "stdout",
     "output_type": "stream",
     "text": [
      "[ True False  True  True  True False False]\n"
     ]
    },
    {
     "data": {
      "text/plain": [
       "array([[-0.19794763, -0.24423663,  0.41795911, -0.00869837],\n",
       "       [-1.59149764, -0.71362588,  0.51607608,  0.32060196],\n",
       "       [ 0.59951699,  0.55098229,  2.08771404, -0.74785883],\n",
       "       [-1.61942374, -1.050553  , -0.70365184, -0.97432694]])"
      ]
     },
     "execution_count": 53,
     "metadata": {},
     "output_type": "execute_result"
    }
   ],
   "source": [
    "cond = (names == 'Bob') | (names == 'Will')\n",
    "print(cond)\n",
    "data[cond]"
   ]
  },
  {
   "cell_type": "markdown",
   "metadata": {},
   "source": [
    "**Note:** The Python keywords ``and`` and ``or`` do not work with boolean arrays. You need to use the operators & and | instead of `and` / `or`, as you have just seen above."
   ]
  },
  {
   "cell_type": "markdown",
   "metadata": {},
   "source": [
    "We can use conditions to modify an array:"
   ]
  },
  {
   "cell_type": "code",
   "execution_count": 54,
   "metadata": {},
   "outputs": [
    {
     "name": "stdout",
     "output_type": "stream",
     "text": [
      "[[ True  True False  True]\n",
      " [ True False  True  True]\n",
      " [ True  True False False]\n",
      " [False False False  True]\n",
      " [ True  True  True  True]\n",
      " [False False False False]\n",
      " [False  True  True False]]\n"
     ]
    },
    {
     "data": {
      "text/plain": [
       "array([[0.        , 0.        , 0.41795911, 0.        ],\n",
       "       [0.        , 1.24856578, 0.        , 0.        ],\n",
       "       [0.        , 0.        , 0.51607608, 0.32060196],\n",
       "       [0.59951699, 0.55098229, 2.08771404, 0.        ],\n",
       "       [0.        , 0.        , 0.        , 0.        ],\n",
       "       [0.09366085, 1.25265491, 1.53965907, 0.5043085 ],\n",
       "       [2.14127222, 0.        , 0.        , 1.05317807]])"
      ]
     },
     "execution_count": 54,
     "metadata": {},
     "output_type": "execute_result"
    }
   ],
   "source": [
    "print(data < 0)\n",
    "data[data < 0] = 0\n",
    "data"
   ]
  },
  {
   "cell_type": "code",
   "execution_count": 55,
   "metadata": {},
   "outputs": [
    {
     "data": {
      "text/plain": [
       "array([[7.        , 7.        , 7.        , 7.        ],\n",
       "       [0.        , 1.24856578, 0.        , 0.        ],\n",
       "       [7.        , 7.        , 7.        , 7.        ],\n",
       "       [7.        , 7.        , 7.        , 7.        ],\n",
       "       [7.        , 7.        , 7.        , 7.        ],\n",
       "       [0.09366085, 1.25265491, 1.53965907, 0.5043085 ],\n",
       "       [2.14127222, 0.        , 0.        , 1.05317807]])"
      ]
     },
     "execution_count": 55,
     "metadata": {},
     "output_type": "execute_result"
    }
   ],
   "source": [
    "data[names != 'Joe'] = 7\n",
    "data"
   ]
  },
  {
   "cell_type": "markdown",
   "metadata": {},
   "source": [
    "### Reshaping arrays\n",
    "\n",
    "You can modify the shape of an array as long as you maintain the number of elements:"
   ]
  },
  {
   "cell_type": "code",
   "execution_count": 56,
   "metadata": {},
   "outputs": [
    {
     "data": {
      "text/plain": [
       "array([ 0,  1,  2,  3,  4,  5,  6,  7,  8,  9, 10, 11, 12, 13, 14])"
      ]
     },
     "execution_count": 56,
     "metadata": {},
     "output_type": "execute_result"
    }
   ],
   "source": [
    "a = np.arange(15)\n",
    "a"
   ]
  },
  {
   "cell_type": "code",
   "execution_count": 57,
   "metadata": {},
   "outputs": [
    {
     "data": {
      "text/plain": [
       "(array([[ 0,  1,  2,  3,  4],\n",
       "        [ 5,  6,  7,  8,  9],\n",
       "        [10, 11, 12, 13, 14]]),\n",
       " (3, 5))"
      ]
     },
     "execution_count": 57,
     "metadata": {},
     "output_type": "execute_result"
    }
   ],
   "source": [
    "a = np.arange(15).reshape((3, 5))\n",
    "(a,a.shape)"
   ]
  },
  {
   "cell_type": "markdown",
   "metadata": {},
   "source": [
    "Here's where it becomes interesting - instead of performing reshape as we have done above:"
   ]
  },
  {
   "cell_type": "code",
   "execution_count": 58,
   "metadata": {},
   "outputs": [
    {
     "data": {
      "text/plain": [
       "array([[ 0,  1,  2,  3,  4],\n",
       "       [ 5,  6,  7,  8,  9],\n",
       "       [10, 11, 12, 13, 14]])"
      ]
     },
     "execution_count": 58,
     "metadata": {},
     "output_type": "execute_result"
    }
   ],
   "source": [
    "np.arange(15).reshape((3, 5))"
   ]
  },
  {
   "cell_type": "markdown",
   "metadata": {},
   "source": [
    "we can do the following:"
   ]
  },
  {
   "cell_type": "code",
   "execution_count": 59,
   "metadata": {},
   "outputs": [
    {
     "data": {
      "text/plain": [
       "array([[ 0,  1,  2,  3,  4],\n",
       "       [ 5,  6,  7,  8,  9],\n",
       "       [10, 11, 12, 13, 14]])"
      ]
     },
     "execution_count": 59,
     "metadata": {},
     "output_type": "execute_result"
    }
   ],
   "source": [
    "np.arange(15).reshape((-1, 5))"
   ]
  },
  {
   "cell_type": "markdown",
   "metadata": {},
   "source": [
    "This is a neat trick:  -1 here means \"as many rows as needed\".\n",
    "\n",
    "#### The transpose of a matrix\n",
    "\n",
    "Let's look at the *transpose* of a matrix:"
   ]
  },
  {
   "cell_type": "code",
   "execution_count": 30,
   "metadata": {},
   "outputs": [
    {
     "name": "stdout",
     "output_type": "stream",
     "text": [
      "[[ 1  2  3  4]\n",
      " [ 5  6  7  8]\n",
      " [ 9 10 11 12]]\n",
      "[[ 1  5  9]\n",
      " [ 2  6 10]\n",
      " [ 3  7 11]\n",
      " [ 4  8 12]]\n",
      "[[ 1  5  9]\n",
      " [ 2  6 10]\n",
      " [ 3  7 11]\n",
      " [ 4  8 12]]\n"
     ]
    }
   ],
   "source": [
    "np.transpose(a), np.transpose(a).shape\n",
    "b = np.transpose(a)\n",
    "print(a)\n",
    "print(np.transpose(a))\n",
    "print(np.transpose(a))"
   ]
  },
  {
   "cell_type": "markdown",
   "metadata": {},
   "source": [
    "### Universal Functions: Fast Element-Wise Array Functions\n",
    "\n",
    "A universal function, or *ufunc*, is a function that performs element-wise operations on data in an ndarray. \n"
   ]
  },
  {
   "cell_type": "code",
   "execution_count": 31,
   "metadata": {},
   "outputs": [
    {
     "name": "stdout",
     "output_type": "stream",
     "text": [
      "array:\t\t[0 1 2 3 4]\n",
      "Square root:\t[0.    1.    1.414 1.732 2.   ]\n",
      "Exponentiate:\t[ 1.     2.718  7.389 20.086 54.598]\n",
      "Square:\t\t[ 0  1  4  9 16]\n"
     ]
    }
   ],
   "source": [
    "a = np.arange(5)\n",
    "np.set_printoptions(precision=3)\n",
    "print(f'array:\\t\\t{a}')\n",
    "print(f'Square root:\\t{np.sqrt(a)}')\n",
    "print(f'Exponentiate:\\t{np.exp(a)}')\n",
    "print(f'Square:\\t\\t{np.square(a)}')"
   ]
  },
  {
   "cell_type": "markdown",
   "metadata": {},
   "source": [
    "In the above code we controlled the number of digits displayed.  That does not affect the precision of computations!  Also notice the use of the tab character and resulting alignment of the printed output."
   ]
  },
  {
   "cell_type": "markdown",
   "metadata": {},
   "source": [
    "A complete list of ufuncs is available in the [NumPy documentation](https://docs.scipy.org/doc/numpy/reference/ufuncs.html#available-ufuncs)."
   ]
  },
  {
   "cell_type": "markdown",
   "metadata": {},
   "source": [
    "### Stacking arrays\n",
    "\n",
    "You can extend arrays by stacking them horizontally or vertically:"
   ]
  },
  {
   "cell_type": "code",
   "execution_count": 62,
   "metadata": {},
   "outputs": [
    {
     "data": {
      "text/plain": [
       "(array([[1, 2],\n",
       "        [3, 4],\n",
       "        [5, 6],\n",
       "        [7, 8]]),\n",
       " array([[1, 2, 5, 6],\n",
       "        [3, 4, 7, 8]]))"
      ]
     },
     "execution_count": 62,
     "metadata": {},
     "output_type": "execute_result"
    }
   ],
   "source": [
    "x = np.array( [[1,2],[3,4]] )\n",
    "y = np.array( [[5,6],[7,8]] )\n",
    "np.vstack([x,y]),np.hstack([x,y])"
   ]
  },
  {
   "cell_type": "markdown",
   "metadata": {},
   "source": [
    "In machine learning vertical and horizontal stacking of arrays is used to add features or training examples to a feature matrix $X$.  There are other forms of stacking arrays, and we refer your to the NumPy documentation for [additional stacking functions](https://numpy.org/doc/stable/reference/routines.array-manipulation.html#joining-arrays)."
   ]
  },
  {
   "cell_type": "markdown",
   "metadata": {},
   "source": [
    "### Array Broadcasting\n",
    "\n",
    "Consider the following piece of code:"
   ]
  },
  {
   "cell_type": "code",
   "execution_count": 63,
   "metadata": {},
   "outputs": [
    {
     "data": {
      "text/plain": [
       "array([[ 2,  2,  4],\n",
       "       [ 5,  5,  7],\n",
       "       [ 8,  8, 10],\n",
       "       [11, 11, 13]])"
      ]
     },
     "execution_count": 63,
     "metadata": {},
     "output_type": "execute_result"
    }
   ],
   "source": [
    "x = np.array([[1,2,3], [4,5,6], [7,8,9], [10, 11, 12]])\n",
    "v = np.array([1, 0, 1])\n",
    "# Add the vector v to each row of the matrix x with an explicit loop\n",
    "for i in range(4):\n",
    "    x[i] = x[i] + v\n",
    "x"
   ]
  },
  {
   "cell_type": "markdown",
   "metadata": {},
   "source": [
    "There is a much more efficient way of doing this that does not use a loop:"
   ]
  },
  {
   "cell_type": "code",
   "execution_count": 64,
   "metadata": {},
   "outputs": [
    {
     "data": {
      "text/plain": [
       "array([[ 2,  2,  4],\n",
       "       [ 5,  5,  7],\n",
       "       [ 8,  8, 10],\n",
       "       [11, 11, 13]])"
      ]
     },
     "execution_count": 64,
     "metadata": {},
     "output_type": "execute_result"
    }
   ],
   "source": [
    "x = np.array([[1,2,3], [4,5,6], [7,8,9], [10, 11, 12]])\n",
    "v = np.array([1, 0, 1])\n",
    "x + v"
   ]
  },
  {
   "cell_type": "markdown",
   "metadata": {},
   "source": [
    "This is called **broadcasting**.\n",
    "The following image explains what NumPy is doing in this case:\n",
    "\n",
    "<img style=\"padding: 10px; float:center;\" alt=\"broadcasting\" src=\"https://numpy.org/doc/stable/_images/broadcasting_2.png\" width=\"500\">\n",
    "\n",
    "Broadcasting is described in greater detail in the [NumPy documentation](https://numpy.org/doc/stable/user/basics.broadcasting.html) and [data science handbook](https://jakevdp.github.io/PythonDataScienceHandbook/02.05-computation-on-arrays-broadcasting.html).\n"
   ]
  },
  {
   "cell_type": "markdown",
   "metadata": {},
   "source": [
    "### Mathematical  and statistical operations on arrays\n",
    "\n",
    "NumPy provides functionality for a variety of mathematical operations on arrays:\n",
    "\n",
    "* `np.sum` - sum\n",
    "* `np.mean` - arithmetic mean\n",
    "* `np.average` - average (can compute weighted averages)\n",
    "* `np.std` - standard deviation\n",
    "* `np.median` - median\n",
    "* `np.max`, `np.min` - maximum/minimum\n",
    "* `np.argmax`, `np.argmin` - index of maximum/minimum\n",
    "\n",
    "And many [more](https://numpy.org/doc/stable/reference/routines.statistics.html).\n",
    "\n",
    "Applying these methods to a two dimensional array performs the operation over the entire array.  Let's look at `np.sum` for example:"
   ]
  },
  {
   "cell_type": "code",
   "execution_count": 32,
   "metadata": {},
   "outputs": [
    {
     "name": "stdout",
     "output_type": "stream",
     "text": [
      "[[-0.366  1.921 -0.067]\n",
      " [ 0.283  1.127 -1.232]\n",
      " [-0.84  -0.224  1.305]\n",
      " [ 1.12   0.82  -0.039]]\n"
     ]
    },
    {
     "data": {
      "text/plain": [
       "3.8080408427587895"
      ]
     },
     "execution_count": 32,
     "metadata": {},
     "output_type": "execute_result"
    }
   ],
   "source": [
    "a = rng.standard_normal(size=(4, 3))\n",
    "print(a)\n",
    "a.sum() # same as np.sum(a) "
   ]
  },
  {
   "cell_type": "markdown",
   "metadata": {},
   "source": [
    "Sums can be performed along a given axis:"
   ]
  },
  {
   "cell_type": "code",
   "execution_count": 33,
   "metadata": {},
   "outputs": [
    {
     "name": "stdout",
     "output_type": "stream",
     "text": [
      "[[-0.366  1.921 -0.067]\n",
      " [ 0.283  1.127 -1.232]\n",
      " [-0.84  -0.224  1.305]\n",
      " [ 1.12   0.82  -0.039]]\n"
     ]
    },
    {
     "data": {
      "text/plain": [
       "array([ 0.198,  3.644, -0.034])"
      ]
     },
     "execution_count": 33,
     "metadata": {},
     "output_type": "execute_result"
    }
   ],
   "source": [
    "print(a)\n",
    "a.sum(axis=0)"
   ]
  },
  {
   "cell_type": "markdown",
   "metadata": {},
   "source": [
    "This can seem a bit confusing, but think about the axis keyword as determining the axis that collapses as a result of performing the operation.  It's NOT the axis over which the operation is performed!"
   ]
  },
  {
   "cell_type": "code",
   "execution_count": 34,
   "metadata": {},
   "outputs": [
    {
     "data": {
      "text/plain": [
       "array([1.488, 0.178, 0.241, 1.9  ])"
      ]
     },
     "execution_count": 34,
     "metadata": {},
     "output_type": "execute_result"
    }
   ],
   "source": [
    "a.sum(axis=1)"
   ]
  },
  {
   "cell_type": "markdown",
   "metadata": {},
   "source": [
    "Let's demonstrate just how much faster the NumPy `sum` function is than its pure Python counterpart:"
   ]
  },
  {
   "cell_type": "code",
   "execution_count": 68,
   "metadata": {},
   "outputs": [
    {
     "name": "stdout",
     "output_type": "stream",
     "text": [
      "52.2 ms ± 2.7 ms per loop (mean ± std. dev. of 7 runs, 10 loops each)\n",
      "766 µs ± 58.7 µs per loop (mean ± std. dev. of 7 runs, 1,000 loops each)\n"
     ]
    }
   ],
   "source": [
    "big_array = rng.random(size=(1000000,))\n",
    "big_list = list(big_array)\n",
    "%timeit sum(big_list)\n",
    "%timeit np.sum(big_array)"
   ]
  },
  {
   "cell_type": "markdown",
   "metadata": {},
   "source": [
    "### NumPy as a tool for expressing mathematical formulas\n",
    "\n",
    "One of the great advantages of using NumPy is that many of the mathematical formulas that are common in machine learning can be succinctly expressed.  Consider for example the computation of the mean-squared error which is used to quantify the quality of a regression model:\n",
    "\n",
    "$$\n",
    "\\mathrm{MSE} = \\frac{1}{N}\\sum_{i=1}^N (\\hat{y}_i - y_i)^2.\n",
    "$$\n",
    "\n",
    "Here $y_1,\\ldots,y_N$ are the given labels and $\\hat{y}_1,\\ldots,\\hat{y}_N$ are the predicted labels.\n",
    "The MSE quantifies the discrepancy between the predicted labels and the labels provided by the user.\n",
    "\n",
    "This formula is easy to express using a single line of code:"
   ]
  },
  {
   "cell_type": "code",
   "execution_count": 69,
   "metadata": {},
   "outputs": [
    {
     "data": {
      "text/plain": [
       "0.06999999999999997"
      ]
     },
     "execution_count": 69,
     "metadata": {},
     "output_type": "execute_result"
    }
   ],
   "source": [
    "y = np.array([1, 1.5, 2])\n",
    "y_pred = np.array([0.8, 1.6, 2.4])\n",
    "\n",
    "(1/len(y)) * np.sum( (y_pred - y)**2 )\n",
    "\n",
    "# alternative:  (1/len(y)) * np.sum( np.square(y - y_pred))\n",
    "# or:\n",
    "# np.mean((y_pred - y)**2)"
   ]
  },
  {
   "cell_type": "markdown",
   "metadata": {},
   "source": [
    "### Exercise\n",
    "\n",
    "* Compute the accuracy of a machine learning classifier.  In this case the labels are discrete, and the error is expressed as:\n",
    "$$\n",
    "\\mathrm{accuracy} = \\frac{1}{N}\\sum_{i=1}^N \\left[\\hat{y}_i = y_i\\right].\n",
    "$$\n",
    "Here the notation $[\\mathrm{condition}]$ is the [Iverson bracket](https://en.wikipedia.org/wiki/Iverson_bracket), which is equal to 1 if the condition is true, and 0 otherwise.\n",
    "Also note that the equality sign in this formula corresponds to the programming `==` operator."
   ]
  },
  {
   "cell_type": "code",
   "execution_count": 70,
   "metadata": {},
   "outputs": [],
   "source": [
    "y = np.array([0, 1, 1, 1, 0])\n",
    "y_pred = np.array([1, 0, 1, 1, 0])\n",
    "# as a hint consider the Boolean condition y==y_pred\n",
    "# accuracy = ..."
   ]
  },
  {
   "cell_type": "markdown",
   "metadata": {},
   "source": [
    "For your reference here is a pure Python implementation:"
   ]
  },
  {
   "cell_type": "code",
   "execution_count": 71,
   "metadata": {},
   "outputs": [
    {
     "data": {
      "text/plain": [
       "0.6"
      ]
     },
     "execution_count": 71,
     "metadata": {},
     "output_type": "execute_result"
    }
   ],
   "source": [
    "accuracy = sum([ y[i]==y_pred[i] for i in range(len(y)) ]) / len(y)\n",
    "accuracy"
   ]
  },
  {
   "cell_type": "markdown",
   "metadata": {},
   "source": [
    "### Example:  Random Walks\n",
    "\n",
    "A random walk in one dimension is a random process where at each step the walker takes a step either to the left or to the right.  Random walks have interesting statistical properties that can be investigated by simulating them."
   ]
  },
  {
   "cell_type": "code",
   "execution_count": 42,
   "metadata": {},
   "outputs": [
    {
     "name": "stdout",
     "output_type": "stream",
     "text": [
      "[0, 1, 2, 1, 2, 1, 0, -1, 0, -1, 0, -1, -2, -3, -4, -3, -2, -3, -4, -3, -4, -3, -4, -5, -4, -5, -4, -5, -4, -5, -6, -5, -6, -7, -6, -5, -6, -5, -4, -3, -4, -3, -2, -1, -2, -3, -2, -3, -2, -3, -2, -3, -2, -3, -2, -3, -2, -3, -2, -1, 0, 1, 2, 1, 0, -1, 0, -1, -2, -1, 0, 1, 0, -1, -2, -1, 0, 1, 2, 1, 0, -1, 0, 1, 0, -1, 0, 1, 2, 1, 0, -1, 0, -1, -2, -3, -2, -3, -4, -3]\n"
     ]
    }
   ],
   "source": [
    "import random\n",
    "def random_walk(n):\n",
    "    \"\"\"Return a list of positions in a random walk\"\"\"\n",
    "    position = 0\n",
    "    walk = [position]\n",
    "    for i in range(n):\n",
    "        position += 2*random.randint(0, 1) - 1\n",
    "        walk.append(position)\n",
    "    return walk\n",
    "\n",
    "walk_length = 1000\n",
    "walk = random_walk(walk_length)\n",
    "print(walk[:100])"
   ]
  },
  {
   "cell_type": "code",
   "execution_count": 73,
   "metadata": {},
   "outputs": [
    {
     "name": "stdout",
     "output_type": "stream",
     "text": [
      "1.19 ms ± 116 µs per loop (mean ± std. dev. of 7 runs, 1,000 loops each)\n"
     ]
    }
   ],
   "source": [
    "%timeit random_walk(walk_length)"
   ]
  },
  {
   "cell_type": "markdown",
   "metadata": {},
   "source": [
    "Here's a much more efficient NumPy version:"
   ]
  },
  {
   "cell_type": "code",
   "execution_count": 74,
   "metadata": {},
   "outputs": [],
   "source": [
    "def random_walk_vectorized(n, seed=42):\n",
    "    rng = default_rng(seed)\n",
    "    steps = rng.choice([-1,+1], n)\n",
    "    return np.cumsum(steps)"
   ]
  },
  {
   "cell_type": "code",
   "execution_count": 75,
   "metadata": {},
   "outputs": [
    {
     "data": {
      "text/plain": [
       "array([-1,  0,  1,  0, -1,  0, -1,  0, -1, -2])"
      ]
     },
     "execution_count": 75,
     "metadata": {},
     "output_type": "execute_result"
    }
   ],
   "source": [
    "random_walk_vectorized(10)"
   ]
  },
  {
   "cell_type": "code",
   "execution_count": 76,
   "metadata": {},
   "outputs": [
    {
     "name": "stdout",
     "output_type": "stream",
     "text": [
      "106 µs ± 13.8 µs per loop (mean ± std. dev. of 7 runs, 10,000 loops each)\n"
     ]
    }
   ],
   "source": [
    "%timeit random_walk_vectorized(walk_length)"
   ]
  },
  {
   "cell_type": "code",
   "execution_count": 77,
   "metadata": {},
   "outputs": [
    {
     "data": {
      "image/png": "[encoded data removed]",
      "text/plain": [
       "<Figure size 640x480 with 1 Axes>"
      ]
     },
     "metadata": {},
     "output_type": "display_data"
    }
   ],
   "source": [
    "num_steps = 10000\n",
    "distance = random_walk_vectorized(num_steps)\n",
    "t = np.arange(num_steps)\n",
    "plt.plot(t, distance, 'g.');"
   ]
  }
 ],
 "metadata": {
  "kernelspec": {
   "display_name": "Python 3 (ipykernel)",
   "language": "python",
   "name": "python3"
  },
  "language_info": {
   "codemirror_mode": {
    "name": "ipython",
    "version": 3
   },
   "file_extension": ".py",
   "mimetype": "text/x-python",
   "name": "python",
   "nbconvert_exporter": "python",
   "pygments_lexer": "ipython3",
   "version": "3.10.11"
  }
 },
 "nbformat": 4,
 "nbformat_minor": 4
}
