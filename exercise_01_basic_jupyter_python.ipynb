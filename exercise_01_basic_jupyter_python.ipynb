{
 "cells": [
  {
   "cell_type": "markdown",
   "id": "6de25c10",
   "metadata": {
    "id": "6de25c10"
   },
   "source": [
    "# CS 345 Exercise 01:  a short warmup in Jupyter + Python\n",
    "\n",
    "**Instructions:** Complete the exercises in this notebook and submit it via Canvas.\n",
    "\n",
    "This notebook provides a short reminder of key features of Python that are relevant to this course, including data types, logical operators and functions.  We will also explore some of the features of the Jupyter notebook.  The background necessary for this notebook is available in the [Python primer notebook](https://github.com/sarathsreedharan/CS345/blob/master/spring24/notebooks/module00_02_python_intro.ipynb)."
   ]
  },
  {
   "cell_type": "markdown",
   "id": "21046d5c",
   "metadata": {
    "id": "21046d5c"
   },
   "source": [
    "### Getting acquainted with code cells\n",
    "\n",
    "In the following cell write code that creates a Python variable; you may assign whatever value you like to this variable.  Then print out your variable or have it be the output of the cell.  Make sure to run the code either using the \"Cell\" menu or by using the keyboard shortcut, which is shown in the menue as well.  Note that there are different ways to run a cell, and you are encouraged to explore them."
   ]
  },
  {
   "cell_type": "code",
   "execution_count": 26,
   "id": "491484aa",
   "metadata": {
    "id": "491484aa",
    "outputId": "4b4a3112-baeb-474a-ef0e-6bbdca63441e"
   },
   "outputs": [
    {
     "name": "stdout",
     "output_type": "stream",
     "text": [
      "10\n"
     ]
    }
   ],
   "source": [
    "# Cell 01\n",
    "# Write your code here.\n",
    "\n",
    "x = 10\n",
    "print(x)"
   ]
  },
  {
   "cell_type": "markdown",
   "id": "3a86ec8f",
   "metadata": {
    "id": "3a86ec8f"
   },
   "source": [
    "In Cell 02, write code to check the type of variable you created using Python's `type` built-in function."
   ]
  },
  {
   "cell_type": "code",
   "execution_count": 27,
   "id": "1ef72bec",
   "metadata": {
    "id": "1ef72bec",
    "outputId": "d3875dfd-d251-4565-e829-0bbbbd8cfc6f"
   },
   "outputs": [
    {
     "data": {
      "text/plain": [
       "int"
      ]
     },
     "execution_count": 27,
     "metadata": {},
     "output_type": "execute_result"
    }
   ],
   "source": [
    "# Cell 02\n",
    "# Write your code here.\n",
    "type(x)\n"
   ]
  },
  {
   "cell_type": "markdown",
   "id": "4b72fecb",
   "metadata": {},
   "source": [
    "### Markdown cells \n",
    "\n",
    "As we have discussed, Jupyter notebooks have two primary types of cells:  **code** cells and **markdown** cells, which are used to display text.\n",
    "This is a markdown cell.  Double click on a markdown cell in order to see the markup and edit it.  To render it, \"run\" the cell the same way you would a code cell.\n",
    "\n",
    "Create another markdown cell below this one and have it include the following:\n",
    "\n",
    "* A heading\n",
    "* A bulleted list\n",
    "* Text in italics and bold font\n",
    "\n",
    "To create a new cell, go to the \"Insert\" menue.\n",
    "\n",
    "Here is a nice [cheatsheet](https://github.com/adam-p/markdown-here/wiki/Markdown-Cheatsheet) that lists markdown syntax."
   ]
  },
  {
   "cell_type": "markdown",
   "id": "5311969c",
   "metadata": {},
   "source": [
    "### Heading?\n",
    "* list?\n",
    "* list?\n",
    "\n",
    "***bold and italic?***"
   ]
  },
  {
   "cell_type": "markdown",
   "id": "3a7c836d",
   "metadata": {},
   "source": [
    "### List comprehension\n",
    "\n",
    "List comprehension is a very convenient Python syntax for creating lists.  Here are a few quick exercises to help you familiarize (or re-familiarize) yourself with this useful tool."
   ]
  },
  {
   "cell_type": "markdown",
   "id": "0bd9402b",
   "metadata": {
    "id": "0bd9402b"
   },
   "source": [
    "* In the next cell, write code that produces the first 10 integers that are a multiple of 3.  Use list comprehensions for this task.  Make sure to print your list or have it be the output of the cell."
   ]
  },
  {
   "cell_type": "code",
   "execution_count": 28,
   "id": "b5435502",
   "metadata": {
    "id": "b5435502",
    "outputId": "8528764d-1090-4576-e2eb-15d01c51b91c"
   },
   "outputs": [
    {
     "name": "stdout",
     "output_type": "stream",
     "text": [
      "[0, 3, 6, 9]\n"
     ]
    }
   ],
   "source": [
    "# Cell 03\n",
    "# Write your code here.\n",
    "\n",
    "listComp = [x for x in range(10) if x % 3 == 0]\n",
    "print(listComp)\n"
   ]
  },
  {
   "cell_type": "markdown",
   "id": "b60d8b3f",
   "metadata": {},
   "source": [
    "### More list comprehension\n",
    "\n",
    "* You are given a list of integers.  Using a single command of list comprehension create a sublist of the original list that contains only the even numbers from the list.\n",
    "\n",
    "For example, given the list\n",
    "```Python\n",
    "values = [2,8,11,3,6,2]\n",
    "```\n",
    "The result should be the list\n",
    "```Python\n",
    "[2,8,6,2]\n",
    "```"
   ]
  },
  {
   "cell_type": "code",
   "execution_count": 29,
   "id": "b351b5d5",
   "metadata": {},
   "outputs": [
    {
     "name": "stdout",
     "output_type": "stream",
     "text": [
      "[2, 8, 6, 2]\n"
     ]
    }
   ],
   "source": [
    "# Cell 04\n",
    "values = [2,8,11,3,6,2]\n",
    "subList = [x for x in values if x % 2 == 0]\n",
    "print(subList)"
   ]
  },
  {
   "cell_type": "markdown",
   "id": "3d8507ef",
   "metadata": {
    "id": "3d8507ef"
   },
   "source": [
    "### Python functions\n",
    "\n",
    "In the next cell, write code to create a function called **is_sorted** that receives a list as input and returns True if it's sorted in ascending order, and False otherwise."
   ]
  },
  {
   "cell_type": "code",
   "execution_count": 36,
   "id": "24e3844a",
   "metadata": {
    "id": "24e3844a",
    "outputId": "b00a83c9-ac9b-419e-b0ae-ceec506c031e"
   },
   "outputs": [
    {
     "name": "stdout",
     "output_type": "stream",
     "text": [
      "False\n",
      "True\n"
     ]
    }
   ],
   "source": [
    "# Cell 05\n",
    "\n",
    "def is_sorted(a_list):\n",
    "    '''\n",
    "    This function returns True if your list is sorted and False otherwise\n",
    "    '''\n",
    "    for i in range(1, len(a_list)): \n",
    "        if a_list[i] >= a_list[i - 1]:\n",
    "            return True\n",
    "    return False\n",
    "\n",
    "# some code to test our function:\n",
    "print(is_sorted([3,8,10,13,2,15])==False)\n",
    "print(is_sorted([3,8,10,13,15])==True)"
   ]
  }
 ],
 "metadata": {
  "colab": {
   "collapsed_sections": [],
   "name": "Exercise_00.ipynb",
   "provenance": []
  },
  "kernelspec": {
   "display_name": "Python 3 (ipykernel)",
   "language": "python",
   "name": "python3"
  },
  "language_info": {
   "codemirror_mode": {
    "name": "ipython",
    "version": 3
   },
   "file_extension": ".py",
   "mimetype": "text/x-python",
   "name": "python",
   "nbconvert_exporter": "python",
   "pygments_lexer": "ipython3",
   "version": "3.10.11"
  }
 },
 "nbformat": 4,
 "nbformat_minor": 5
}
